{
 "cells": [
  {
   "cell_type": "markdown",
   "metadata": {},
   "source": [
    "## Battle of Neighbourhoods - Week 1 (A peer-graded Assignment)"
   ]
  },
  {
   "cell_type": "markdown",
   "metadata": {},
   "source": [
    "<H2>Contents</H2>\n",
    "<b>\n",
    "<ol>\n",
    "<li>Part 1: Background</li>\n",
    "<ul>Problems And Challenges</ul>\n",
    "<ul>Goals and Success Criteria</ul>\n",
    "<li>Part 2: Data description, Acquisition and Business Solution</li>\n",
    "    <ul>Dataset</ul>\n",
    "</ol>\n",
    "</b>\n",
    "\n"
   ]
  },
  {
   "cell_type": "markdown",
   "metadata": {},
   "source": [
    "## Part 1: Background\n",
    "The Economic Affairs, Education and Research Ministry of Switzerland has succeeded in convincing the Federal Assembly to pass a law in support of the \"History and Geography Education Project\" tendered by The Secondary School Heads Union (SSHU) in 2018. The news was big in April 2019 within the secondary school environment. The bid showcased a request for the Federal Government of Switzerland to allow the federal secondary schools to implement an already layed out requirement for all penultimate High school students to embark on a three-day international trip to some selected top muesuems in the Scandinavian country of Norway as part of the final school examination grading process. Specifically, The capital ciy of Oslo and its neighborhood was chosen. \n",
    "\n",
    "### Problems And Challenges\n",
    "\n",
    "1. Most of the popular tourism companies in Swizerland lack the capacity and logistics to plan, handle and/or supervise a group of 30-40 students travelling to-and-fro Oslo simultaneosly\n",
    "\n",
    "2. The Swiss Education Ministry prefers to work directly with any good and reputable Tourism company based in Oslo and also has a branch office in Ireland the UK and has therefore, advertised to get a company based in Norway to tender a proposal meant to attain the above objective\n",
    "\n",
    "### Goals and Success Criteria\n",
    "In an executive meeting of my company, 'Tour 2 Learn', we were convinced we could deliver the layed out requirements by the Swiss Ministry of Education. We are to come up with several details in a business case to tender to the Swiss body. This will include some best and educative places of attraction and affordable hotels, etc.\n",
    "\n",
    "As a Data Scientist, I was asked to come up as quickly as possible, with about 10-14 best tourist centers within the Oslo area suitable for young students of history, science and geography. Affordable Hotels recommendation by Tour 2 learn will be crucial and a maximum of 4 hotels within the Oslo city center is paramount.\n",
    " \n",
    "### Dataset Source: Brief description"
   ]
  },
  {
   "cell_type": "markdown",
   "metadata": {},
   "source": [
    "Our dataset contains [14 Top-Rated Tourist Attractions in Oslo](https://www.planetware.com/tourist-attractions-/oslo-n-osl-oslo.htm). The project stipulates not more than 14 destination in the area of interest to make it easier for students to work with one another and complete thier projects within the shortest possible time. Oslo is one of the world's largest capitals in terms of area, but only 20 percent of this land mass has been developed - the remainder consists of parks, protected forests, hills, and hundreds of lakes. Parks and open spaces are an integral part of Oslo's cityscape, and are easily accessible from almost anywhere in the city. The center is a joy to explore on foot thanks to the numerous pathways and trails connecting its public spaces, as well as its many pedestrian-friendly areas, including the city's main street, Karl Johans gate. Stretching from Oslo Central Station near the waterfront all the way up to the Royal Palace, this wide avenue passes many of Oslo's tourist attractions, including the palace, the National Theatre, the old university buildings, and Oslo Cathedral. Regularly ranked as one of the best cities in the world in which to live, Oslo boasts a rich cultural scene and numerous things to do, and is famous for its theater, museums, and galleries. At the end of the trip, every student would have been equiped and more enlightened to go to the final year in school with clearer goals regarding their future History, Geography, Science & Engineering careers."
   ]
  }
 ],
 "metadata": {
  "kernelspec": {
   "display_name": "Python 3",
   "language": "python",
   "name": "python3"
  },
  "language_info": {
   "codemirror_mode": {
    "name": "ipython",
    "version": 3
   },
   "file_extension": ".py",
   "mimetype": "text/x-python",
   "name": "python",
   "nbconvert_exporter": "python",
   "pygments_lexer": "ipython3",
   "version": "3.6.8"
  }
 },
 "nbformat": 4,
 "nbformat_minor": 2
}
