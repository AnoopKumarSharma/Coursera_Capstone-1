{
 "cells": [
  {
   "cell_type": "markdown",
   "metadata": {},
   "source": [
    "## Segmenting and Clustering Neighborhoods in Toronto - Part 2"
   ]
  },
  {
   "cell_type": "markdown",
   "metadata": {},
   "source": [
    "#### The objective is to group the neighborhoods into clusters. We will then add geographical coordinates to the dataframe."
   ]
  },
  {
   "cell_type": "markdown",
   "metadata": {},
   "source": [
    "#### Import required library"
   ]
  },
  {
   "cell_type": "code",
   "execution_count": 1,
   "metadata": {},
   "outputs": [
    {
     "name": "stdout",
     "output_type": "stream",
     "text": [
      "Libraries imported.\n"
     ]
    }
   ],
   "source": [
    "import numpy as np # library to handle data in a vectorized manner\n",
    "\n",
    "import pandas as pd # library for data analsysis\n",
    "pd.set_option('display.max_columns', None)\n",
    "pd.set_option('display.max_rows', None)\n",
    "\n",
    "import json # library to handle JSON files\n",
    "\n",
    "#!conda install -c conda-forge geopy --yes # uncomment this line if you haven't completed the Foursquare API lab\n",
    "from geopy.geocoders import Nominatim # convert an address into latitude and longitude values\n",
    "\n",
    "import requests # library to handle requests\n",
    "from pandas.io.json import json_normalize # tranform JSON file into a pandas dataframe\n",
    "\n",
    "# Matplotlib and associated plotting modules\n",
    "import matplotlib.cm as cm\n",
    "import matplotlib.colors as colors\n",
    "\n",
    "# import k-means from clustering stage\n",
    "from sklearn.cluster import KMeans\n",
    "\n",
    "#!conda install -c conda-forge folium=0.5.0 --yes # uncomment this line if you haven't completed the Foursquare API lab\n",
    "import folium # map rendering library\n",
    "\n",
    "# Install website scraping libraries and packages in Python from BeautifulSoup \n",
    "#!conda install -c conda-forge beautifulsoup4 --yes  # uncomment this line if you haven't completed \n",
    "from bs4 import BeautifulSoup as bs\n",
    "\n",
    "print('Libraries imported.')"
   ]
  },
  {
   "cell_type": "markdown",
   "metadata": {},
   "source": [
    "#### Download dataset"
   ]
  },
  {
   "cell_type": "markdown",
   "metadata": {},
   "source": [
    "From Wikipedia we can get the List of postal codes of Canada using the Beautiful soup package using 'wget' command: \n",
    "     https://en.wikipedia.org/wiki/List_of_postal_codes_of_Canada:_\n",
    "\n",
    "We register the file locally and open the file and iterate through HTML elements to extract postal codes. The Neighborhood has a total of 5 boroughs and 306 neighborhoods. In order to segment the neighborhoods and explore them, we will essentially need a dataset that contains the 5 boroughs and the neighborhoods that exist in each borough as well as the the latitude and longitude coordinates of each neighborhood. "
   ]
  },
  {
   "cell_type": "code",
   "execution_count": 2,
   "metadata": {},
   "outputs": [
    {
     "name": "stdout",
     "output_type": "stream",
     "text": [
      "HTML Postal Code page downloaded!\n"
     ]
    }
   ],
   "source": [
    "!wget -q -O 'canada_postal_code_list_from_wikipedia.html' https://en.wikipedia.org/wiki/List_of_postal_codes_of_Canada:_M\n",
    "print('HTML Postal Code page downloaded!')"
   ]
  },
  {
   "cell_type": "markdown",
   "metadata": {},
   "source": [
    "#### Load the data"
   ]
  },
  {
   "cell_type": "code",
   "execution_count": 3,
   "metadata": {},
   "outputs": [],
   "source": [
    "# Get HTML content\n",
    "with open(\"canada_postal_code_list_from_wikipedia.html\") as fp:\n",
    "    soup = bs(fp, 'lxml')\n",
    "\n",
    "# Get the HTML table codes\n",
    "tagTable = soup.table\n",
    "#Get table body\n",
    "body = tagTable.tbody"
   ]
  },
  {
   "cell_type": "markdown",
   "metadata": {},
   "source": [
    "#### Tranform the data into a *pandas* dataframe. \n",
    "The aim is to transform the HTML data  into a _pandas_ dataframe.\n",
    "We start by creating an empty dataframe with just the column names"
   ]
  },
  {
   "cell_type": "code",
   "execution_count": 4,
   "metadata": {},
   "outputs": [
    {
     "data": {
      "text/html": [
       "<div>\n",
       "<style scoped>\n",
       "    .dataframe tbody tr th:only-of-type {\n",
       "        vertical-align: middle;\n",
       "    }\n",
       "\n",
       "    .dataframe tbody tr th {\n",
       "        vertical-align: top;\n",
       "    }\n",
       "\n",
       "    .dataframe thead th {\n",
       "        text-align: right;\n",
       "    }\n",
       "</style>\n",
       "<table border=\"1\" class=\"dataframe\">\n",
       "  <thead>\n",
       "    <tr style=\"text-align: right;\">\n",
       "      <th></th>\n",
       "      <th>Postcode</th>\n",
       "      <th>Borough</th>\n",
       "      <th>Neighbourhood</th>\n",
       "    </tr>\n",
       "  </thead>\n",
       "  <tbody>\n",
       "  </tbody>\n",
       "</table>\n",
       "</div>"
      ],
      "text/plain": [
       "Empty DataFrame\n",
       "Columns: [Postcode, Borough, Neighbourhood]\n",
       "Index: []"
      ]
     },
     "execution_count": 4,
     "metadata": {},
     "output_type": "execute_result"
    }
   ],
   "source": [
    "# Define the dataframe columns \n",
    "# get table column names -> all 'th' tags of the body in 'tr' fields\n",
    "colTab = (body.tr).find_all('th')\n",
    "#print (colTab)\n",
    "colNames = [(bs(str(colTab[i]))).find('th').string.strip() for i in range (0,3)]\n",
    "\n",
    "# instantiate the dataframe\n",
    "postcode_df = pd.DataFrame(columns=colNames)\n",
    "postcode_df"
   ]
  },
  {
   "cell_type": "markdown",
   "metadata": {},
   "source": [
    "#### We loop through the data and fill the dataframe one row at a time."
   ]
  },
  {
   "cell_type": "code",
   "execution_count": 5,
   "metadata": {},
   "outputs": [
    {
     "name": "stdout",
     "output_type": "stream",
     "text": [
      "Toronto postal codes dataframe dimensions =  (103, 3)\n"
     ]
    },
    {
     "data": {
      "text/html": [
       "<div>\n",
       "<style scoped>\n",
       "    .dataframe tbody tr th:only-of-type {\n",
       "        vertical-align: middle;\n",
       "    }\n",
       "\n",
       "    .dataframe tbody tr th {\n",
       "        vertical-align: top;\n",
       "    }\n",
       "\n",
       "    .dataframe thead th {\n",
       "        text-align: right;\n",
       "    }\n",
       "</style>\n",
       "<table border=\"1\" class=\"dataframe\">\n",
       "  <thead>\n",
       "    <tr style=\"text-align: right;\">\n",
       "      <th></th>\n",
       "      <th>Postcode</th>\n",
       "      <th>Borough</th>\n",
       "      <th>Neighbourhood</th>\n",
       "    </tr>\n",
       "  </thead>\n",
       "  <tbody>\n",
       "    <tr>\n",
       "      <th>0</th>\n",
       "      <td>M1B</td>\n",
       "      <td>Scarborough</td>\n",
       "      <td>Rouge, Malvern</td>\n",
       "    </tr>\n",
       "    <tr>\n",
       "      <th>1</th>\n",
       "      <td>M1C</td>\n",
       "      <td>Scarborough</td>\n",
       "      <td>Highland Creek, Rouge Hill, Port Union</td>\n",
       "    </tr>\n",
       "    <tr>\n",
       "      <th>2</th>\n",
       "      <td>M1E</td>\n",
       "      <td>Scarborough</td>\n",
       "      <td>Guildwood, Morningside, West Hill</td>\n",
       "    </tr>\n",
       "    <tr>\n",
       "      <th>3</th>\n",
       "      <td>M1G</td>\n",
       "      <td>Scarborough</td>\n",
       "      <td>Woburn</td>\n",
       "    </tr>\n",
       "    <tr>\n",
       "      <th>4</th>\n",
       "      <td>M1H</td>\n",
       "      <td>Scarborough</td>\n",
       "      <td>Cedarbrae</td>\n",
       "    </tr>\n",
       "    <tr>\n",
       "      <th>5</th>\n",
       "      <td>M1J</td>\n",
       "      <td>Scarborough</td>\n",
       "      <td>Scarborough Village</td>\n",
       "    </tr>\n",
       "    <tr>\n",
       "      <th>6</th>\n",
       "      <td>M1K</td>\n",
       "      <td>Scarborough</td>\n",
       "      <td>East Birchmount Park, Ionview, Kennedy Park</td>\n",
       "    </tr>\n",
       "    <tr>\n",
       "      <th>7</th>\n",
       "      <td>M1L</td>\n",
       "      <td>Scarborough</td>\n",
       "      <td>Clairlea, Golden Mile, Oakridge</td>\n",
       "    </tr>\n",
       "    <tr>\n",
       "      <th>8</th>\n",
       "      <td>M1M</td>\n",
       "      <td>Scarborough</td>\n",
       "      <td>Cliffcrest, Cliffside, Scarborough Village West</td>\n",
       "    </tr>\n",
       "    <tr>\n",
       "      <th>9</th>\n",
       "      <td>M1N</td>\n",
       "      <td>Scarborough</td>\n",
       "      <td>Birch Cliff, Cliffside West</td>\n",
       "    </tr>\n",
       "    <tr>\n",
       "      <th>10</th>\n",
       "      <td>M1P</td>\n",
       "      <td>Scarborough</td>\n",
       "      <td>Dorset Park, Scarborough Town Centre, Wexford ...</td>\n",
       "    </tr>\n",
       "    <tr>\n",
       "      <th>11</th>\n",
       "      <td>M1R</td>\n",
       "      <td>Scarborough</td>\n",
       "      <td>Maryvale, Wexford</td>\n",
       "    </tr>\n",
       "    <tr>\n",
       "      <th>12</th>\n",
       "      <td>M1S</td>\n",
       "      <td>Scarborough</td>\n",
       "      <td>Agincourt</td>\n",
       "    </tr>\n",
       "    <tr>\n",
       "      <th>13</th>\n",
       "      <td>M1T</td>\n",
       "      <td>Scarborough</td>\n",
       "      <td>Clarks Corners, Sullivan, Tam O'Shanter</td>\n",
       "    </tr>\n",
       "    <tr>\n",
       "      <th>14</th>\n",
       "      <td>M1V</td>\n",
       "      <td>Scarborough</td>\n",
       "      <td>Agincourt North, L'Amoreaux East, Milliken, St...</td>\n",
       "    </tr>\n",
       "  </tbody>\n",
       "</table>\n",
       "</div>"
      ],
      "text/plain": [
       "   Postcode      Borough                                      Neighbourhood\n",
       "0       M1B  Scarborough                                     Rouge, Malvern\n",
       "1       M1C  Scarborough             Highland Creek, Rouge Hill, Port Union\n",
       "2       M1E  Scarborough                  Guildwood, Morningside, West Hill\n",
       "3       M1G  Scarborough                                             Woburn\n",
       "4       M1H  Scarborough                                          Cedarbrae\n",
       "5       M1J  Scarborough                                Scarborough Village\n",
       "6       M1K  Scarborough        East Birchmount Park, Ionview, Kennedy Park\n",
       "7       M1L  Scarborough                    Clairlea, Golden Mile, Oakridge\n",
       "8       M1M  Scarborough    Cliffcrest, Cliffside, Scarborough Village West\n",
       "9       M1N  Scarborough                        Birch Cliff, Cliffside West\n",
       "10      M1P  Scarborough  Dorset Park, Scarborough Town Centre, Wexford ...\n",
       "11      M1R  Scarborough                                  Maryvale, Wexford\n",
       "12      M1S  Scarborough                                          Agincourt\n",
       "13      M1T  Scarborough            Clarks Corners, Sullivan, Tam O'Shanter\n",
       "14      M1V  Scarborough  Agincourt North, L'Amoreaux East, Milliken, St..."
      ]
     },
     "execution_count": 5,
     "metadata": {},
     "output_type": "execute_result"
    }
   ],
   "source": [
    "postcode_df = pd.DataFrame(columns=colNames)\n",
    "\n",
    "# extract all 'tr' tagged fields except the first one (column names)\n",
    "codesTab= body.find_all('tr')[1:]\n",
    "\n",
    "for n, code in enumerate(codesTab):\n",
    "    # n.th postal code either : name or link\n",
    "    #print (\"\\n\", n ,\".th\",  code, )\n",
    "    # for each element code \n",
    "    tabc = [\"\",\"\",\"\"]\n",
    "    for i, value in enumerate(code.stripped_strings):\n",
    "        tabc[i] = value.strip()\n",
    "    #print(\"tabc\", tabc)\n",
    "    # Ignore cells with a borough that is Not assigned.\n",
    "    #print(tabc[1], 'Not assigned', tabc[1] == 'Not assigned')\n",
    "    postcode = tabc[0]\n",
    "    borough = tabc[1]\n",
    "    neighbourhood = tabc[2]\n",
    "    \n",
    "    if borough != 'Not assigned':\n",
    "        # insert\n",
    "        # check a neighbourhood is assigned else set it with borough\n",
    "        if neighbourhood == 'Not assigned':\n",
    "            neighbourhood = borough\n",
    "        # insert the built postal code into the dataframe\n",
    "        postcode_df = postcode_df.append({'Postcode' : postcode,\n",
    "                            'Borough' : borough,\n",
    "                            'Neighbourhood': neighbourhood},\n",
    "                           ignore_index=True)\n",
    "\n",
    "# Combine rows with same postal code into one row with the neighborhoods separated with a comma \n",
    "df = postcode_df.groupby('Postcode', as_index=False).agg({'Borough':'first', 'Neighbourhood':', '.join})\n",
    "print (\"Toronto postal codes dataframe dimensions = \", df.shape)\n",
    "df.head(15)"
   ]
  },
  {
   "cell_type": "code",
   "execution_count": 6,
   "metadata": {},
   "outputs": [
    {
     "name": "stdout",
     "output_type": "stream",
     "text": [
      "CSV file exported\n"
     ]
    }
   ],
   "source": [
    "# Store dataframe locally as a csv file to be easily used later\n",
    "df.to_csv('canada_postal_code_list.csv')\n",
    "print ('CSV file exported')"
   ]
  },
  {
   "cell_type": "markdown",
   "metadata": {},
   "source": [
    "### Add Geographical Coordinates"
   ]
  },
  {
   "cell_type": "markdown",
   "metadata": {},
   "source": [
    "In order to utilize the Foursquare location data, we need the latitude and the longitude coordinates of each neighborhood. To ensure that we get the coordinates for all of our neighborhoods, we run a while loop for each postal code.\n",
    "\n",
    "Without being able to use Geocoder and Nominatim, one option is to use the alternative csv file from the following link to add the coordinates: \n",
    "\n",
    "http://cocl.us/Geospatial_data"
   ]
  },
  {
   "cell_type": "code",
   "execution_count": 7,
   "metadata": {},
   "outputs": [
    {
     "name": "stdout",
     "output_type": "stream",
     "text": [
      "Postal Code Coordinates downloaded!\n"
     ]
    }
   ],
   "source": [
    "!wget -q -O 'Geospatial_Coordinates.csv' http://cocl.us/Geospatial_data   \n",
    "print('Postal Code Coordinates downloaded!')"
   ]
  },
  {
   "cell_type": "code",
   "execution_count": 8,
   "metadata": {},
   "outputs": [
    {
     "name": "stdout",
     "output_type": "stream",
     "text": [
      "  Postcode   Latitude  Longitude\n",
      "0      M1B  43.806686 -79.194353\n",
      "1      M1C  43.784535 -79.160497\n",
      "2      M1E  43.763573 -79.188711\n"
     ]
    },
    {
     "data": {
      "text/html": [
       "<div>\n",
       "<style scoped>\n",
       "    .dataframe tbody tr th:only-of-type {\n",
       "        vertical-align: middle;\n",
       "    }\n",
       "\n",
       "    .dataframe tbody tr th {\n",
       "        vertical-align: top;\n",
       "    }\n",
       "\n",
       "    .dataframe thead th {\n",
       "        text-align: right;\n",
       "    }\n",
       "</style>\n",
       "<table border=\"1\" class=\"dataframe\">\n",
       "  <thead>\n",
       "    <tr style=\"text-align: right;\">\n",
       "      <th></th>\n",
       "      <th>Postcode</th>\n",
       "      <th>Borough</th>\n",
       "      <th>Neighbourhood</th>\n",
       "      <th>Latitude</th>\n",
       "      <th>Longitude</th>\n",
       "    </tr>\n",
       "  </thead>\n",
       "  <tbody>\n",
       "    <tr>\n",
       "      <th>0</th>\n",
       "      <td>M1B</td>\n",
       "      <td>Scarborough</td>\n",
       "      <td>Rouge, Malvern</td>\n",
       "      <td>43.806686</td>\n",
       "      <td>-79.194353</td>\n",
       "    </tr>\n",
       "    <tr>\n",
       "      <th>1</th>\n",
       "      <td>M1C</td>\n",
       "      <td>Scarborough</td>\n",
       "      <td>Highland Creek, Rouge Hill, Port Union</td>\n",
       "      <td>43.784535</td>\n",
       "      <td>-79.160497</td>\n",
       "    </tr>\n",
       "    <tr>\n",
       "      <th>2</th>\n",
       "      <td>M1E</td>\n",
       "      <td>Scarborough</td>\n",
       "      <td>Guildwood, Morningside, West Hill</td>\n",
       "      <td>43.763573</td>\n",
       "      <td>-79.188711</td>\n",
       "    </tr>\n",
       "    <tr>\n",
       "      <th>3</th>\n",
       "      <td>M1G</td>\n",
       "      <td>Scarborough</td>\n",
       "      <td>Woburn</td>\n",
       "      <td>43.770992</td>\n",
       "      <td>-79.216917</td>\n",
       "    </tr>\n",
       "    <tr>\n",
       "      <th>4</th>\n",
       "      <td>M1H</td>\n",
       "      <td>Scarborough</td>\n",
       "      <td>Cedarbrae</td>\n",
       "      <td>43.773136</td>\n",
       "      <td>-79.239476</td>\n",
       "    </tr>\n",
       "    <tr>\n",
       "      <th>5</th>\n",
       "      <td>M1J</td>\n",
       "      <td>Scarborough</td>\n",
       "      <td>Scarborough Village</td>\n",
       "      <td>43.744734</td>\n",
       "      <td>-79.239476</td>\n",
       "    </tr>\n",
       "    <tr>\n",
       "      <th>6</th>\n",
       "      <td>M1K</td>\n",
       "      <td>Scarborough</td>\n",
       "      <td>East Birchmount Park, Ionview, Kennedy Park</td>\n",
       "      <td>43.727929</td>\n",
       "      <td>-79.262029</td>\n",
       "    </tr>\n",
       "    <tr>\n",
       "      <th>7</th>\n",
       "      <td>M1L</td>\n",
       "      <td>Scarborough</td>\n",
       "      <td>Clairlea, Golden Mile, Oakridge</td>\n",
       "      <td>43.711112</td>\n",
       "      <td>-79.284577</td>\n",
       "    </tr>\n",
       "    <tr>\n",
       "      <th>8</th>\n",
       "      <td>M1M</td>\n",
       "      <td>Scarborough</td>\n",
       "      <td>Cliffcrest, Cliffside, Scarborough Village West</td>\n",
       "      <td>43.716316</td>\n",
       "      <td>-79.239476</td>\n",
       "    </tr>\n",
       "    <tr>\n",
       "      <th>9</th>\n",
       "      <td>M1N</td>\n",
       "      <td>Scarborough</td>\n",
       "      <td>Birch Cliff, Cliffside West</td>\n",
       "      <td>43.692657</td>\n",
       "      <td>-79.264848</td>\n",
       "    </tr>\n",
       "    <tr>\n",
       "      <th>10</th>\n",
       "      <td>M1P</td>\n",
       "      <td>Scarborough</td>\n",
       "      <td>Dorset Park, Scarborough Town Centre, Wexford ...</td>\n",
       "      <td>43.757410</td>\n",
       "      <td>-79.273304</td>\n",
       "    </tr>\n",
       "    <tr>\n",
       "      <th>11</th>\n",
       "      <td>M1R</td>\n",
       "      <td>Scarborough</td>\n",
       "      <td>Maryvale, Wexford</td>\n",
       "      <td>43.750072</td>\n",
       "      <td>-79.295849</td>\n",
       "    </tr>\n",
       "    <tr>\n",
       "      <th>12</th>\n",
       "      <td>M1S</td>\n",
       "      <td>Scarborough</td>\n",
       "      <td>Agincourt</td>\n",
       "      <td>43.794200</td>\n",
       "      <td>-79.262029</td>\n",
       "    </tr>\n",
       "    <tr>\n",
       "      <th>13</th>\n",
       "      <td>M1T</td>\n",
       "      <td>Scarborough</td>\n",
       "      <td>Clarks Corners, Sullivan, Tam O'Shanter</td>\n",
       "      <td>43.781638</td>\n",
       "      <td>-79.304302</td>\n",
       "    </tr>\n",
       "    <tr>\n",
       "      <th>14</th>\n",
       "      <td>M1V</td>\n",
       "      <td>Scarborough</td>\n",
       "      <td>Agincourt North, L'Amoreaux East, Milliken, St...</td>\n",
       "      <td>43.815252</td>\n",
       "      <td>-79.284577</td>\n",
       "    </tr>\n",
       "  </tbody>\n",
       "</table>\n",
       "</div>"
      ],
      "text/plain": [
       "   Postcode      Borough                                      Neighbourhood  \\\n",
       "0       M1B  Scarborough                                     Rouge, Malvern   \n",
       "1       M1C  Scarborough             Highland Creek, Rouge Hill, Port Union   \n",
       "2       M1E  Scarborough                  Guildwood, Morningside, West Hill   \n",
       "3       M1G  Scarborough                                             Woburn   \n",
       "4       M1H  Scarborough                                          Cedarbrae   \n",
       "5       M1J  Scarborough                                Scarborough Village   \n",
       "6       M1K  Scarborough        East Birchmount Park, Ionview, Kennedy Park   \n",
       "7       M1L  Scarborough                    Clairlea, Golden Mile, Oakridge   \n",
       "8       M1M  Scarborough    Cliffcrest, Cliffside, Scarborough Village West   \n",
       "9       M1N  Scarborough                        Birch Cliff, Cliffside West   \n",
       "10      M1P  Scarborough  Dorset Park, Scarborough Town Centre, Wexford ...   \n",
       "11      M1R  Scarborough                                  Maryvale, Wexford   \n",
       "12      M1S  Scarborough                                          Agincourt   \n",
       "13      M1T  Scarborough            Clarks Corners, Sullivan, Tam O'Shanter   \n",
       "14      M1V  Scarborough  Agincourt North, L'Amoreaux East, Milliken, St...   \n",
       "\n",
       "     Latitude  Longitude  \n",
       "0   43.806686 -79.194353  \n",
       "1   43.784535 -79.160497  \n",
       "2   43.763573 -79.188711  \n",
       "3   43.770992 -79.216917  \n",
       "4   43.773136 -79.239476  \n",
       "5   43.744734 -79.239476  \n",
       "6   43.727929 -79.262029  \n",
       "7   43.711112 -79.284577  \n",
       "8   43.716316 -79.239476  \n",
       "9   43.692657 -79.264848  \n",
       "10  43.757410 -79.273304  \n",
       "11  43.750072 -79.295849  \n",
       "12  43.794200 -79.262029  \n",
       "13  43.781638 -79.304302  \n",
       "14  43.815252 -79.284577  "
      ]
     },
     "execution_count": 8,
     "metadata": {},
     "output_type": "execute_result"
    }
   ],
   "source": [
    "df_coordinates = pd.read_csv('Geospatial_Coordinates.csv')\n",
    "\n",
    "# Rename the Postal Code column to allow merging\n",
    "df_coordinates.rename(columns={'Postal Code':'Postcode'}, inplace=True)\n",
    "print(df_coordinates[0:3])\n",
    "\n",
    "# for each postal code get the latitude and longitude values\n",
    "# Merge the 2 dtaframe on the Postalcode column\n",
    "df.head(10)\n",
    "df_latlg = pd.merge(df, df_coordinates, on='Postcode' )\n",
    "df_latlg.head(15)"
   ]
  }
 ],
 "metadata": {
  "kernelspec": {
   "display_name": "Python 3",
   "language": "python",
   "name": "python3"
  },
  "language_info": {
   "codemirror_mode": {
    "name": "ipython",
    "version": 3
   },
   "file_extension": ".py",
   "mimetype": "text/x-python",
   "name": "python",
   "nbconvert_exporter": "python",
   "pygments_lexer": "ipython3",
   "version": "3.7.3"
  }
 },
 "nbformat": 4,
 "nbformat_minor": 2
}
