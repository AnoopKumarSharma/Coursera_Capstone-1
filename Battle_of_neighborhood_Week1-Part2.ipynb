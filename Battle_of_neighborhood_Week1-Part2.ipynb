{
 "cells": [
  {
   "cell_type": "markdown",
   "metadata": {},
   "source": [
    "## Battle of Neighbourhoods - Week 1 Prt 2"
   ]
  },
  {
   "cell_type": "markdown",
   "metadata": {},
   "source": [
    "### Data Exploration and Description\n",
    "\n",
    "After a series of discussions and meetings, it was quickly decided that the best data containing top-rated attraction centers and museums in oslo will be fetched from PlanetWare Inc., which is based in Richmond Hill, Ontario, Canada. The summary of the first dataset is shown below. The second dataset will be a listed number of affordable hotel accommodation suitable for penultimate students in high schools.\n",
    "\n",
    "_**First Dataset**_ contains [14 Top-Rated Tourist Attractions in Oslo](https://www.planetware.com/tourist-attractions-/oslo-n-osl-oslo.htm). The project stipulates not more than 14 destination in the area of interest to make it easier for students to work with one another and complete thier projects within the shortest possible time. Oslo is one of the world's largest capitals in terms of area, but only 20 percent of this land mass has been developed - the remainder consists of parks, protected forests, hills, and hundreds of lakes. Parks and open spaces are an integral part of Oslo's cityscape, and are easily accessible from almost anywhere in the city. The center is a joy to explore on foot thanks to the numerous pathways and trails connecting its public spaces, as well as its many pedestrian-friendly areas, including the city's main street, Karl Johans gate. Stretching from Oslo Central Station near the waterfront all the way up to the Royal Palace, this wide avenue passes many of Oslo's tourist attractions, including the palace, the National Theatre, the old university buildings, and Oslo Cathedral. Regularly ranked as one of the best cities in the world in which to live, Oslo boasts a rich cultural scene and numerous things to do, and is famous for its theater, museums, and galleries. At the end of the trip, every student would have been equiped and more enlightened to go to the final year in school with clearer goals regarding their future History, Geography, Science & Engineering careers."
   ]
  },
  {
   "cell_type": "markdown",
   "metadata": {},
   "source": [
    "#### Get Required Libraries"
   ]
  },
  {
   "cell_type": "code",
   "execution_count": 17,
   "metadata": {
    "collapsed": false
   },
   "outputs": [
    {
     "name": "stdout",
     "output_type": "stream",
     "text": [
      "Collecting package metadata: done\n",
      "Solving environment: \\ \n",
      "The environment is inconsistent, please check the package plan carefully\n",
      "The following packages are causing the inconsistency:\n",
      "\n",
      "  - defaults/linux-64::anaconda==5.3.1=py37_0\n",
      "  - defaults/linux-64::astropy==3.0.4=py37h14c3975_0\n",
      "  - defaults/linux-64::bkcharts==0.2=py37_0\n",
      "  - defaults/linux-64::blaze==0.11.3=py37_0\n",
      "  - defaults/linux-64::bokeh==0.13.0=py37_0\n",
      "  - defaults/linux-64::bottleneck==1.2.1=py37h035aef0_1\n",
      "  - defaults/linux-64::dask==0.19.1=py37_0\n",
      "  - defaults/linux-64::datashape==0.5.4=py37_1\n",
      "  - defaults/linux-64::mkl-service==1.1.2=py37h90e4bf4_5\n",
      "  - defaults/linux-64::numba==0.39.0=py37h04863e7_0\n",
      "  - defaults/linux-64::numexpr==2.6.8=py37hd89afb7_0\n",
      "  - defaults/linux-64::odo==0.5.1=py37_0\n",
      "  - defaults/linux-64::pytables==3.4.4=py37ha205bf6_0\n",
      "  - defaults/linux-64::pytest-arraydiff==0.2=py37h39e3cac_0\n",
      "  - defaults/linux-64::pytest-astropy==0.4.0=py37_0\n",
      "  - defaults/linux-64::pytest-doctestplus==0.1.3=py37_0\n",
      "  - defaults/linux-64::pywavelets==1.0.0=py37hdd07704_0\n",
      "  - defaults/linux-64::scikit-image==0.14.0=py37hf484d3e_1\n",
      "done\n",
      "\n",
      "# All requested packages already installed.\n",
      "\n",
      "Collecting package metadata: done\n",
      "Solving environment: / \n",
      "The environment is inconsistent, please check the package plan carefully\n",
      "The following packages are causing the inconsistency:\n",
      "\n",
      "  - defaults/linux-64::anaconda==5.3.1=py37_0\n",
      "  - defaults/linux-64::astropy==3.0.4=py37h14c3975_0\n",
      "  - defaults/linux-64::bkcharts==0.2=py37_0\n",
      "  - defaults/linux-64::blaze==0.11.3=py37_0\n",
      "  - defaults/linux-64::bokeh==0.13.0=py37_0\n",
      "  - defaults/linux-64::bottleneck==1.2.1=py37h035aef0_1\n",
      "  - defaults/linux-64::dask==0.19.1=py37_0\n",
      "  - defaults/linux-64::datashape==0.5.4=py37_1\n",
      "  - defaults/linux-64::mkl-service==1.1.2=py37h90e4bf4_5\n",
      "  - defaults/linux-64::numba==0.39.0=py37h04863e7_0\n",
      "  - defaults/linux-64::numexpr==2.6.8=py37hd89afb7_0\n",
      "  - defaults/linux-64::odo==0.5.1=py37_0\n",
      "  - defaults/linux-64::pytables==3.4.4=py37ha205bf6_0\n",
      "  - defaults/linux-64::pytest-arraydiff==0.2=py37h39e3cac_0\n",
      "  - defaults/linux-64::pytest-astropy==0.4.0=py37_0\n",
      "  - defaults/linux-64::pytest-doctestplus==0.1.3=py37_0\n",
      "  - defaults/linux-64::pywavelets==1.0.0=py37hdd07704_0\n",
      "  - defaults/linux-64::scikit-image==0.14.0=py37hf484d3e_1\n",
      "done\n",
      "\n",
      "# All requested packages already installed.\n",
      "\n",
      "Folium installed\n",
      "Libraries imported.\n"
     ]
    }
   ],
   "source": [
    "# Matplotlib and associated plotting modules\n",
    "import matplotlib.cm as cm\n",
    "import matplotlib.colors as colors\n",
    "\n",
    "import requests # library to handle requests\n",
    "import pandas as pd # library for data analsysis\n",
    "import numpy as np # library to handle data in a vectorized manner\n",
    "import random # library for random number generation\n",
    "#!conda install -c conda-forge geopy\n",
    "!conda install -c conda-forge geopy --yes \n",
    "from geopy.geocoders import Nominatim # module to convert an address into latitude and longitude values\n",
    "\n",
    "# libraries for displaying images\n",
    "from IPython.display import Image \n",
    "from IPython.core.display import HTML \n",
    "    \n",
    "# tranforming json file into a pandas dataframe library\n",
    "from pandas.io.json import json_normalize # tranform JSON file into a pandas dataframe\n",
    "\n",
    "!conda install -c conda-forge folium=0.5.0 --yes\n",
    "import folium # map rendering library\n",
    "import json # library to handle JSON files\n",
    "print('Folium installed')\n",
    "print('Libraries imported.')\n"
   ]
  },
  {
   "cell_type": "markdown",
   "metadata": {},
   "source": [
    "### 1. Download and Explore 1st Dataset"
   ]
  },
  {
   "cell_type": "markdown",
   "metadata": {},
   "source": [
    "#### Import BeautifulSoup"
   ]
  },
  {
   "cell_type": "code",
   "execution_count": 48,
   "metadata": {},
   "outputs": [
    {
     "name": "stdout",
     "output_type": "stream",
     "text": [
      "bs4 imported.\n"
     ]
    }
   ],
   "source": [
    "from bs4 import BeautifulSoup as bs\n",
    "print('bs4 imported.')"
   ]
  },
  {
   "cell_type": "markdown",
   "metadata": {},
   "source": [
    "#### Load and explore the data from Planeware"
   ]
  },
  {
   "cell_type": "code",
   "execution_count": 50,
   "metadata": {},
   "outputs": [],
   "source": [
    "url = 'https://www.planetware.com/tourist-attractions-/oslo-n-osl-oslo.htm'\n",
    "url_get = requests.get(url)\n",
    "soup = BeautifulSoup(url_get.content, 'html.parser')"
   ]
  },
  {
   "cell_type": "code",
   "execution_count": 51,
   "metadata": {},
   "outputs": [
    {
     "name": "stdout",
     "output_type": "stream",
     "text": [
      "14 Top-Rated Tourist Attractions in Oslo | PlanetWare\n"
     ]
    }
   ],
   "source": [
    "print(soup.find('title').text)"
   ]
  },
  {
   "cell_type": "code",
   "execution_count": 32,
   "metadata": {},
   "outputs": [
    {
     "data": {
      "text/plain": [
       "bs4.BeautifulSoup"
      ]
     },
     "execution_count": 32,
     "metadata": {},
     "output_type": "execute_result"
    }
   ],
   "source": [
    "type(soup)"
   ]
  },
  {
   "cell_type": "code",
   "execution_count": 89,
   "metadata": {},
   "outputs": [
    {
     "name": "stdout",
     "output_type": "stream",
     "text": [
      "1  Vigeland Sculpture Park\n",
      "2  Akershus Fortress\n",
      "3  Viking Ship Museum\n",
      "4  The National Museum\n",
      "5  Munch Museum\n",
      "6  Royal Palace\n",
      "7  The Museum of Cultural History\n",
      "8  Fram Museum\n",
      "9  Holmenkollen Ski Jump and Museum\n",
      "10  Oslo Cathedral\n",
      "11  City Hall (Rådhuset)\n",
      "12  Aker Brygge\n",
      "13  Natural History Museum & Botanical Gardens\n",
      "14  Oslo Opera House and Annual Music Festivals\n",
      " Where to Stay in Oslo for Sightseeing\n",
      " Tips and Tours: How to Make the Most of Your Visit to Oslo\n",
      " More Related Articles on PlanetWare.com\n"
     ]
    }
   ],
   "source": [
    "attraction_place=soup.find_all('h2', class_=\"sitename\")\n",
    "\n",
    "for h2 in attraction_place: \n",
    "    attraction_place = print (h2.text);    "
   ]
  },
  {
   "cell_type": "markdown",
   "metadata": {},
   "source": [
    "### Summary of Data to be further Explored and Used\n",
    "We shall need just 3 main features from the website to get started: the list of attraction places, their addresses and their official websites and will be basically sufficient (in addition to recommended hotel accommodation - second dataset) for our exploration and anaylisis. With grounded facilities plan, this will ultimately convince the Irish Ministry of Education to approve our proposal from.\n",
    "\n",
    "**Foursquare API** We will utilised to obtain the latitude, longitude lactions of the listed attraction places"
   ]
  },
  {
   "cell_type": "markdown",
   "metadata": {},
   "source": [
    "#### List of attraction Centers or Museums"
   ]
  },
  {
   "cell_type": "markdown",
   "metadata": {},
   "source": [
    "#### Addresses of Centers or Museums"
   ]
  },
  {
   "cell_type": "markdown",
   "metadata": {},
   "source": [
    "### Note\n",
    "Note that BeautifulSoup has picked 3 h2  tags after the 14th and last Museum. We have to clean this up before the final data exploration and analysis."
   ]
  },
  {
   "cell_type": "code",
   "execution_count": 86,
   "metadata": {},
   "outputs": [
    {
     "name": "stdout",
     "output_type": "stream",
     "text": [
      "[<div class=\"web\">\n",
      "<span>Official site: </span><a href=\"http://www.vigeland.museum.no/en/vigeland-park\" onclick=\"ga('send', 'event', 'externalsite', 'site', 'http://www.vigeland.museum.no/en/vigeland-park');\" rel=\"nofollow\" target=\"_blank\">www.vigeland.museum.no/en/vigeland-park</a>\n",
      "</div>, <div class=\"web\">\n",
      "<span>Official site: </span><a href=\"http://www.khm.uio.no/english/visit-us/viking-ship-museum/\" onclick=\"ga('send', 'event', 'externalsite', 'site', 'http://www.khm.uio.no/english/visit-us/viking-ship-museum/');\" rel=\"nofollow\" target=\"_blank\">www.khm.uio.no/english/visit-us/viking-ship-museum/</a>\n",
      "</div>]\n"
     ]
    }
   ],
   "source": [
    "official_site=soup.find_all('div', class_=\"web\")\n",
    "print(official_site[0:2])"
   ]
  },
  {
   "cell_type": "code",
   "execution_count": 96,
   "metadata": {},
   "outputs": [
    {
     "name": "stdout",
     "output_type": "stream",
     "text": [
      "['Nobels gate 32, N-0268 Oslo', 'Akershus Festning, 0015 Oslo', 'Frederiks gate 2, 0164 Oslo', 'Universitetsgata 13, Oslo', 'Tøyengata 53, 0578 Oslo', 'Bellevue, Oslo', 'Frederiks gate 2, 0164 Oslo', 'Bygdøynesveien 39, 0286 Oslo', 'Kongeveien 5, 0787 Oslo', 'Karl Johansgt. 11, 0154 Oslo', 'Rådhuset, 0037 Oslo', 'Bryggegata 9, 0120 Oslo', 'Sars gate 1, 0562 Oslo', 'Kirsten Flagstads Plass 1, 0150 Oslo']\n"
     ]
    },
    {
     "data": {
      "text/plain": [
       "list"
      ]
     },
     "execution_count": 96,
     "metadata": {},
     "output_type": "execute_result"
    }
   ],
   "source": [
    "addressArray =soup.find_all('p', class_=\"nospc\")\n",
    "address = []\n",
    "for add in addressArray:\n",
    "    address.append(add.text.split(\"Address:\")[1].strip())\n",
    "print(address)\n",
    "type(address)\n"
   ]
  },
  {
   "cell_type": "markdown",
   "metadata": {},
   "source": [
    "#### Official websites of Centers or Museums"
   ]
  },
  {
   "cell_type": "code",
   "execution_count": 35,
   "metadata": {
    "collapsed": false
   },
   "outputs": [
    {
     "name": "stdout",
     "output_type": "stream",
     "text": [
      "Your credentails: MOJ\n",
      "CLIENT_ID: YVPBNCUL4G2JQ15FSH1WO234FVZHAS31GSEWRRVBHZ4MMMRI\n",
      "CLIENT_SECRET:LSEXPCJQZIXVEFYLSCAXDBVNVW0H10BX3L1U5IW2M23EU2EX\n"
     ]
    }
   ],
   "source": [
    "CLIENT_ID = 'YVPBNCUL4G2JQ15FSH1WO234FVZHAS31GSEWRRVBHZ4MMMRI' # your Foursquare ID\n",
    "CLIENT_SECRET = 'LSEXPCJQZIXVEFYLSCAXDBVNVW0H10BX3L1U5IW2M23EU2EX' # your Foursquare Secret\n",
    "VERSION = '20180604'\n",
    "LIMIT = 30\n",
    "print('Your credentails: MOJ')\n",
    "print('CLIENT_ID: ' + CLIENT_ID)\n",
    "print('CLIENT_SECRET:' + CLIENT_SECRET)"
   ]
  },
  {
   "cell_type": "markdown",
   "metadata": {},
   "source": [
    "#### Using Foursquare API to obtain Museums Locations"
   ]
  },
  {
   "cell_type": "code",
   "execution_count": 34,
   "metadata": {},
   "outputs": [
    {
     "name": "stdout",
     "output_type": "stream",
     "text": [
      "59.922816 10.700466\n"
     ]
    }
   ],
   "source": [
    "address = 'Nobels gate 32, N-0268 Oslo'\n",
    "geolocator = Nominatim(user_agent=\"foursquare_agent\")\n",
    "location = geolocator.geocode(address)\n",
    "latitude = location.latitude\n",
    "longitude = location.longitude\n",
    "print(latitude, longitude)"
   ]
  },
  {
   "cell_type": "markdown",
   "metadata": {},
   "source": [
    "#### Let's take a look at the location (lat. and lng. of the first venue in this list), which is \n",
    "'Nobels gate 32, N-0268 Oslo', located in the heart of Oslo.\n",
    "In the main data exploration we shall use a JSON file or use python 'for loop' to generate the location of all the 14 venues"
   ]
  },
  {
   "cell_type": "code",
   "execution_count": 37,
   "metadata": {},
   "outputs": [
    {
     "name": "stdout",
     "output_type": "stream",
     "text": [
      "--2019-06-05 09:41:34--  https://www.planetware.com/tourist-attractions-/oslo-n-osl-oslo.htm/lists\n",
      "Resolving www.planetware.com (www.planetware.com)... 52.22.101.10, 54.88.227.104, 107.23.224.123\n",
      "Connecting to www.planetware.com (www.planetware.com)|52.22.101.10|:443... connected.\n",
      "HTTP request sent, awaiting response... 301 Permanently Moved\n",
      "Location: https://www.planetware.com/tourist-attractions-/oslo-n-osl-oslo.htm [following]\n",
      "--2019-06-05 09:41:34--  https://www.planetware.com/tourist-attractions-/oslo-n-osl-oslo.htm\n",
      "Reusing existing connection to www.planetware.com:443.\n",
      "HTTP request sent, awaiting response... 200 OK\n",
      "Length: unspecified [text/html]\n",
      "Saving to: ‘museum_list.json’\n",
      "\n",
      "museum_list.json        [ <=>                ] 135.31K  --.-KB/s    in 0.06s   \n",
      "\n",
      "2019-06-05 09:41:35 (2.32 MB/s) - ‘museum_list.json’ saved [138554]\n",
      "\n",
      "Museum json file downloaded!\n"
     ]
    }
   ],
   "source": [
    "# Download the museum list\n",
    "!wget -O museum_list.json https://www.planetware.com/tourist-attractions-/oslo-n-osl-oslo.htm/lists\n",
    "print('Museum json file downloaded!')"
   ]
  },
  {
   "cell_type": "code",
   "execution_count": 97,
   "metadata": {},
   "outputs": [
    {
     "data": {
      "text/html": [
       "<div>\n",
       "<style scoped>\n",
       "    .dataframe tbody tr th:only-of-type {\n",
       "        vertical-align: middle;\n",
       "    }\n",
       "\n",
       "    .dataframe tbody tr th {\n",
       "        vertical-align: top;\n",
       "    }\n",
       "\n",
       "    .dataframe thead th {\n",
       "        text-align: right;\n",
       "    }\n",
       "</style>\n",
       "<table border=\"1\" class=\"dataframe\">\n",
       "  <thead>\n",
       "    <tr style=\"text-align: right;\">\n",
       "      <th></th>\n",
       "      <th>Attraction_Center</th>\n",
       "      <th>Address</th>\n",
       "      <th>Official_website</th>\n",
       "      <th>Longitude</th>\n",
       "      <th>Lattitude</th>\n",
       "    </tr>\n",
       "  </thead>\n",
       "  <tbody>\n",
       "  </tbody>\n",
       "</table>\n",
       "</div>"
      ],
      "text/plain": [
       "Empty DataFrame\n",
       "Columns: [Attraction_Center, Address, Official_website, Longitude, Lattitude]\n",
       "Index: []"
      ]
     },
     "execution_count": 97,
     "metadata": {},
     "output_type": "execute_result"
    }
   ],
   "source": [
    "df = pd.DataFrame(columns=['Attraction_Center', 'Address', 'Official_website', 'Longitude', 'Lattitude'])\n",
    "df"
   ]
  },
  {
   "cell_type": "markdown",
   "metadata": {},
   "source": [
    "### We proceed to Battle of Neigborhood Week2 with an instantiated DataFrame to work with"
   ]
  }
 ],
 "metadata": {
  "kernelspec": {
   "display_name": "Python 3",
   "language": "python",
   "name": "python3"
  },
  "language_info": {
   "codemirror_mode": {
    "name": "ipython",
    "version": 3
   },
   "file_extension": ".py",
   "mimetype": "text/x-python",
   "name": "python",
   "nbconvert_exporter": "python",
   "pygments_lexer": "ipython3",
   "version": "3.6.8"
  },
  "widgets": {
   "state": {},
   "version": "1.1.2"
  }
 },
 "nbformat": 4,
 "nbformat_minor": 2
}
